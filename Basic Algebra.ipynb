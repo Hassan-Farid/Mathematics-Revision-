{
 "cells": [
  {
   "cell_type": "code",
   "execution_count": 1,
   "metadata": {},
   "outputs": [],
   "source": [
    "import sympy as sp"
   ]
  },
  {
   "cell_type": "markdown",
   "metadata": {},
   "source": [
    "# Algebra:\n",
    "Algebra is one of the main branches of Mathematics that deals with the rules for manipulation of symbols so as to compute mathematical expressions and equations.\n",
    "\n",
    "## Topics in Algebra:\n"
   ]
  },
  {
   "cell_type": "markdown",
   "metadata": {},
   "source": [
    "# Variables:\n",
    "Variables are letters that allow us to compute generalized version of computation i.e. they can attain any value. Here we illustrate the creation of a simple variable 'x'."
   ]
  },
  {
   "cell_type": "code",
   "execution_count": 2,
   "metadata": {},
   "outputs": [],
   "source": [
    "#Creating variables as symbols\n",
    "x = sp.symbols('x')"
   ]
  },
  {
   "cell_type": "markdown",
   "metadata": {},
   "source": [
    "## Using Variables in Expressions\n",
    "We can use these variables in an expression, to compute the value of the expression for different values of that variable. Consider some basic expressions:"
   ]
  },
  {
   "cell_type": "code",
   "execution_count": 3,
   "metadata": {},
   "outputs": [
    {
     "data": {
      "text/latex": [
       "$\\displaystyle 4 x - 3$"
      ],
      "text/plain": [
       "4*x - 3"
      ]
     },
     "execution_count": 3,
     "metadata": {},
     "output_type": "execute_result"
    }
   ],
   "source": [
    "#Creating the expression 4x - 3\n",
    "expr = 4*x - 3\n",
    "expr"
   ]
  },
  {
   "cell_type": "code",
   "execution_count": 4,
   "metadata": {},
   "outputs": [
    {
     "data": {
      "text/latex": [
       "$\\displaystyle 9$"
      ],
      "text/plain": [
       "9"
      ]
     },
     "execution_count": 4,
     "metadata": {},
     "output_type": "execute_result"
    }
   ],
   "source": [
    "#Now evaluating the result of the expression for x = 3\n",
    "expr.subs({'x':3})"
   ]
  },
  {
   "cell_type": "code",
   "execution_count": 5,
   "metadata": {},
   "outputs": [
    {
     "data": {
      "text/latex": [
       "$\\displaystyle 53$"
      ],
      "text/plain": [
       "53"
      ]
     },
     "execution_count": 5,
     "metadata": {},
     "output_type": "execute_result"
    }
   ],
   "source": [
    "#Now evaluating the result of the expression for x = 14\n",
    "expr.subs({'x':14})"
   ]
  },
  {
   "cell_type": "markdown",
   "metadata": {},
   "source": [
    "## Expressions with More than One Variable\n",
    "It may be the case that the expression has more than one variables. Lets view a basic example:"
   ]
  },
  {
   "cell_type": "code",
   "execution_count": 6,
   "metadata": {},
   "outputs": [],
   "source": [
    "#Creating variables for a multi-variable expression\n",
    "x, y, z = sp.symbols('x y z')"
   ]
  },
  {
   "cell_type": "code",
   "execution_count": 7,
   "metadata": {},
   "outputs": [
    {
     "data": {
      "text/latex": [
       "$\\displaystyle 4 x - \\frac{3 y}{7 z} - 1$"
      ],
      "text/plain": [
       "4*x - 3*y/(7*z) - 1"
      ]
     },
     "execution_count": 7,
     "metadata": {},
     "output_type": "execute_result"
    }
   ],
   "source": [
    "#Creating a multi-variable expression: 4x - 3y/7z - 1\n",
    "expr = 4*x - (3*y)/(7*z) - 1\n",
    "expr"
   ]
  },
  {
   "cell_type": "code",
   "execution_count": 8,
   "metadata": {},
   "outputs": [
    {
     "data": {
      "text/latex": [
       "$\\displaystyle 14$"
      ],
      "text/plain": [
       "14"
      ]
     },
     "execution_count": 8,
     "metadata": {},
     "output_type": "execute_result"
    }
   ],
   "source": [
    "#Evaluating the expression for x = 4, y = 7, z = 3\n",
    "expr.subs({'x':4, 'y':7, 'z':3})"
   ]
  },
  {
   "cell_type": "markdown",
   "metadata": {},
   "source": [
    "## Equations with Single Variables\n",
    "We can find the value of a particular variable by forming an equation of that variable. The equation can then be used to compute the value of that variable. Lets see some examples:"
   ]
  },
  {
   "cell_type": "code",
   "execution_count": 9,
   "metadata": {},
   "outputs": [
    {
     "data": {
      "text/plain": [
       "[6]"
      ]
     },
     "execution_count": 9,
     "metadata": {},
     "output_type": "execute_result"
    }
   ],
   "source": [
    "#Solving the basic equation for x \n",
    "sp.solve(x + 4 - 10, x)"
   ]
  },
  {
   "cell_type": "code",
   "execution_count": 10,
   "metadata": {},
   "outputs": [
    {
     "data": {
      "text/plain": [
       "[-7/4]"
      ]
     },
     "execution_count": 10,
     "metadata": {},
     "output_type": "execute_result"
    }
   ],
   "source": [
    "#Solving the basic equation for x\n",
    "sp.solve(4*x + 7, x)"
   ]
  },
  {
   "cell_type": "markdown",
   "metadata": {},
   "source": [
    "# Exponents:\n",
    "A variable if multiplied by itself more than one time i.e. an expression in which a variable is multiplied by itself repeatedly is termed as \"Exponent Expression\". In an exponenet expression, the variable is termed as \"Base\" and a number represented on top of it is called the \"Exponent/Power/Indice\" of the variable. Lets see some examples:"
   ]
  },
  {
   "cell_type": "code",
   "execution_count": 11,
   "metadata": {},
   "outputs": [
    {
     "data": {
      "text/latex": [
       "$\\displaystyle x^{2}$"
      ],
      "text/plain": [
       "x**2"
      ]
     },
     "execution_count": 11,
     "metadata": {},
     "output_type": "execute_result"
    }
   ],
   "source": [
    "#Creating an exponent expression \n",
    "expr = x**2 #Equivalent to x^2\n",
    "expr"
   ]
  },
  {
   "cell_type": "code",
   "execution_count": 12,
   "metadata": {},
   "outputs": [
    {
     "data": {
      "text/latex": [
       "$\\displaystyle 16$"
      ],
      "text/plain": [
       "16"
      ]
     },
     "execution_count": 12,
     "metadata": {},
     "output_type": "execute_result"
    }
   ],
   "source": [
    "#Evaluating the expression for x = 4\n",
    "expr.subs({'x':4})"
   ]
  },
  {
   "cell_type": "markdown",
   "metadata": {},
   "source": [
    "## Expressions containing Exponents (Higher Degree Expressions)\n",
    "In case of an exponent used as a part of expression, the expression is referred to as a \"Higher Degree Expression\". Each higher degree expression has a value called the \"degree of the expression\". This degree is the highest expoenent value of a term in the given expression. Lets see some examples:"
   ]
  },
  {
   "cell_type": "code",
   "execution_count": 13,
   "metadata": {},
   "outputs": [
    {
     "data": {
      "text/latex": [
       "$\\displaystyle x^{4} - 3 x^{3} + 2 x - 5$"
      ],
      "text/plain": [
       "x**4 - 3*x**3 + 2*x - 5"
      ]
     },
     "execution_count": 13,
     "metadata": {},
     "output_type": "execute_result"
    }
   ],
   "source": [
    "#Creating a higher degree expression x^4 - 3x^3 + 2x - 5 (degree = 4)\n",
    "expr = x**4 - 3*(x**3) + 2*x - 5\n",
    "expr"
   ]
  },
  {
   "cell_type": "code",
   "execution_count": 14,
   "metadata": {},
   "outputs": [
    {
     "data": {
      "text/latex": [
       "$\\displaystyle 255$"
      ],
      "text/plain": [
       "255"
      ]
     },
     "execution_count": 14,
     "metadata": {},
     "output_type": "execute_result"
    }
   ],
   "source": [
    "#Evaluating the expression for x = 5\n",
    "expr.subs({'x':5})"
   ]
  },
  {
   "cell_type": "code",
   "execution_count": 15,
   "metadata": {},
   "outputs": [
    {
     "data": {
      "text/latex": [
       "$\\displaystyle 4$"
      ],
      "text/plain": [
       "4"
      ]
     },
     "execution_count": 15,
     "metadata": {},
     "output_type": "execute_result"
    }
   ],
   "source": [
    "#Viewing the degree of the expression\n",
    "sp.degree(expr, gen=x) "
   ]
  },
  {
   "cell_type": "code",
   "execution_count": 16,
   "metadata": {},
   "outputs": [
    {
     "data": {
      "text/latex": [
       "$\\displaystyle x^{5} + x z^{2} + 4 y^{3} + 2 y + 3 z^{2} + 1$"
      ],
      "text/plain": [
       "x**5 + x*z**2 + 4*y**3 + 2*y + 3*z**2 + 1"
      ]
     },
     "execution_count": 16,
     "metadata": {},
     "output_type": "execute_result"
    }
   ],
   "source": [
    "#We can also create a higher degree expression with different variables having different degrees\n",
    "expr = x**5 + 4*(y**3) + 3*(z**2) + 2*y + x*(z**2) + 1\n",
    "expr"
   ]
  },
  {
   "cell_type": "code",
   "execution_count": 17,
   "metadata": {},
   "outputs": [
    {
     "data": {
      "text/latex": [
       "$\\displaystyle 1391$"
      ],
      "text/plain": [
       "1391"
      ]
     },
     "execution_count": 17,
     "metadata": {},
     "output_type": "execute_result"
    }
   ],
   "source": [
    "#Evaluating the expression for x = 4, y = 3, z = 6\n",
    "expr.subs({'x':4, 'y':3, 'z':6})"
   ]
  },
  {
   "cell_type": "code",
   "execution_count": 18,
   "metadata": {},
   "outputs": [
    {
     "data": {
      "text/latex": [
       "$\\displaystyle 5$"
      ],
      "text/plain": [
       "5"
      ]
     },
     "execution_count": 18,
     "metadata": {},
     "output_type": "execute_result"
    }
   ],
   "source": [
    "#Viewing degree of x in the expression\n",
    "sp.degree(expr, gen=x)"
   ]
  },
  {
   "cell_type": "code",
   "execution_count": 19,
   "metadata": {},
   "outputs": [
    {
     "data": {
      "text/latex": [
       "$\\displaystyle 3$"
      ],
      "text/plain": [
       "3"
      ]
     },
     "execution_count": 19,
     "metadata": {},
     "output_type": "execute_result"
    }
   ],
   "source": [
    "#Viewing the degree of y in the expression\n",
    "sp.degree(expr, gen=y)"
   ]
  },
  {
   "cell_type": "markdown",
   "metadata": {},
   "source": [
    "### Sum of Exponents Rule:\n",
    "Now although these are the respective degrees for the given equation in x and y, to find the overall degree of the equation we have to first take care of mixed terms (terms containing more than one variable such as xz^2). To find the degree of the multi-variable term xz^2, we need to add the individual degrees of these two i.e. x has a degree of 1 and z has a degree of 2 so the total degree would be 3. This is indicated as under:"
   ]
  },
  {
   "cell_type": "code",
   "execution_count": 20,
   "metadata": {},
   "outputs": [
    {
     "data": {
      "text/latex": [
       "$\\displaystyle 3$"
      ],
      "text/plain": [
       "3"
      ]
     },
     "execution_count": 20,
     "metadata": {},
     "output_type": "execute_result"
    }
   ],
   "source": [
    "#Computing the degree of xz^2 in the given expression\n",
    "sp.total_degree(x*z**2)"
   ]
  },
  {
   "cell_type": "markdown",
   "metadata": {},
   "source": [
    "## Equations containing Exponents (Higher Degree Equations)\n",
    "Similar to expressions, equations that containing exponents as terms are referred to as \"Higher Degree Equations\". Such equations also have a degree like in case of expressions. For certain degrees, the equations have specific names as illustrated below:\n",
    "\n",
    "* Linear Equation : Equation with degree 1\n",
    "* Quadratic Equation: Equation with degree 2\n",
    "* Trinomial Equation: Equation with degree 3\n",
    "* Quartic Equation: Equation with degree 4"
   ]
  },
  {
   "cell_type": "code",
   "execution_count": 21,
   "metadata": {},
   "outputs": [
    {
     "data": {
      "text/plain": [
       "[-4]"
      ]
     },
     "execution_count": 21,
     "metadata": {},
     "output_type": "execute_result"
    }
   ],
   "source": [
    "#Creating a Linear Equation (x + 4 = 0)\n",
    "sp.solve(x + 4, x)"
   ]
  },
  {
   "cell_type": "code",
   "execution_count": 22,
   "metadata": {},
   "outputs": [
    {
     "data": {
      "text/plain": [
       "[-3/2 - sqrt(31)*I/2, -3/2 + sqrt(31)*I/2]"
      ]
     },
     "execution_count": 22,
     "metadata": {},
     "output_type": "execute_result"
    }
   ],
   "source": [
    "#Creating a Quadratic Equation (x^2 + 3x + 10 = 0)\n",
    "sp.solve(x**2 + 3*x + 10, x)"
   ]
  },
  {
   "cell_type": "code",
   "execution_count": 29,
   "metadata": {},
   "outputs": [
    {
     "data": {
      "text/plain": [
       "[-2/9 + 5/(27*(-1/2 - sqrt(3)*I/2)*(1177/54 + sqrt(1901)/2)**(1/3)) - (-1/2 - sqrt(3)*I/2)*(1177/54 + sqrt(1901)/2)**(1/3)/3,\n",
       " -2/9 - (-1/2 + sqrt(3)*I/2)*(1177/54 + sqrt(1901)/2)**(1/3)/3 + 5/(27*(-1/2 + sqrt(3)*I/2)*(1177/54 + sqrt(1901)/2)**(1/3)),\n",
       " -(1177/54 + sqrt(1901)/2)**(1/3)/3 - 2/9 + 5/(27*(1177/54 + sqrt(1901)/2)**(1/3))]"
      ]
     },
     "execution_count": 29,
     "metadata": {},
     "output_type": "execute_result"
    }
   ],
   "source": [
    "#Creating a Trinomial Equation (3x^3 + 2x^2 + x + 5 = 0)\n",
    "sp.solve(3*(x**3) + 2*(x**2) + x + 5, x)"
   ]
  },
  {
   "cell_type": "code",
   "execution_count": 30,
   "metadata": {},
   "outputs": [
    {
     "data": {
      "text/plain": [
       "[1/4 - sqrt(-5/12 + 35/(9*(-125/216 + 5*sqrt(1455)*I/72)**(1/3)) + 2*(-125/216 + 5*sqrt(1455)*I/72)**(1/3))/2 + sqrt(-5/6 - 2*(-125/216 + 5*sqrt(1455)*I/72)**(1/3) - 5/(4*sqrt(-5/12 + 35/(9*(-125/216 + 5*sqrt(1455)*I/72)**(1/3)) + 2*(-125/216 + 5*sqrt(1455)*I/72)**(1/3))) - 35/(9*(-125/216 + 5*sqrt(1455)*I/72)**(1/3)))/2,\n",
       " 1/4 + sqrt(-5/12 + 35/(9*(-125/216 + 5*sqrt(1455)*I/72)**(1/3)) + 2*(-125/216 + 5*sqrt(1455)*I/72)**(1/3))/2 - sqrt(-5/6 - 2*(-125/216 + 5*sqrt(1455)*I/72)**(1/3) + 5/(4*sqrt(-5/12 + 35/(9*(-125/216 + 5*sqrt(1455)*I/72)**(1/3)) + 2*(-125/216 + 5*sqrt(1455)*I/72)**(1/3))) - 35/(9*(-125/216 + 5*sqrt(1455)*I/72)**(1/3)))/2,\n",
       " 1/4 - sqrt(-5/6 - 2*(-125/216 + 5*sqrt(1455)*I/72)**(1/3) - 5/(4*sqrt(-5/12 + 35/(9*(-125/216 + 5*sqrt(1455)*I/72)**(1/3)) + 2*(-125/216 + 5*sqrt(1455)*I/72)**(1/3))) - 35/(9*(-125/216 + 5*sqrt(1455)*I/72)**(1/3)))/2 - sqrt(-5/12 + 35/(9*(-125/216 + 5*sqrt(1455)*I/72)**(1/3)) + 2*(-125/216 + 5*sqrt(1455)*I/72)**(1/3))/2,\n",
       " 1/4 + sqrt(-5/6 - 2*(-125/216 + 5*sqrt(1455)*I/72)**(1/3) + 5/(4*sqrt(-5/12 + 35/(9*(-125/216 + 5*sqrt(1455)*I/72)**(1/3)) + 2*(-125/216 + 5*sqrt(1455)*I/72)**(1/3))) - 35/(9*(-125/216 + 5*sqrt(1455)*I/72)**(1/3)))/2 + sqrt(-5/12 + 35/(9*(-125/216 + 5*sqrt(1455)*I/72)**(1/3)) + 2*(-125/216 + 5*sqrt(1455)*I/72)**(1/3))/2]"
      ]
     },
     "execution_count": 30,
     "metadata": {},
     "output_type": "execute_result"
    }
   ],
   "source": [
    "#Creating a Quartic Equation (x^4 - x^3 + x^2 - x + 6 = 0)\n",
    "sp.solve(x**4 - x**3 + x**2 - x + 6, x)"
   ]
  },
  {
   "cell_type": "markdown",
   "metadata": {},
   "source": [
    "# Radicals:\n",
    "Radicals are the anti of the exponents i.e. given a certain variable x, they reduce it down to the value that would be multiplied that many times to itself to get the variable value. Radicals are also reffered as \"nth roots\" and are equivalent to \"1/exponent\" power (i.e. a root of power 2 would be equivalent to the total power 1/2). Lets view some examples"
   ]
  },
  {
   "cell_type": "code",
   "execution_count": 25,
   "metadata": {},
   "outputs": [
    {
     "data": {
      "text/latex": [
       "$\\displaystyle \\sqrt{x}$"
      ],
      "text/plain": [
       "sqrt(x)"
      ]
     },
     "execution_count": 25,
     "metadata": {},
     "output_type": "execute_result"
    }
   ],
   "source": [
    "#Creating a radical expression \n",
    "expr = sp.sqrt(x)\n",
    "expr"
   ]
  },
  {
   "cell_type": "code",
   "execution_count": 26,
   "metadata": {},
   "outputs": [
    {
     "data": {
      "text/latex": [
       "$\\displaystyle 2$"
      ],
      "text/plain": [
       "2"
      ]
     },
     "execution_count": 26,
     "metadata": {},
     "output_type": "execute_result"
    }
   ],
   "source": [
    "#Evaluating the result for x = 4\n",
    "expr.subs({'x':4})"
   ]
  },
  {
   "cell_type": "code",
   "execution_count": 27,
   "metadata": {},
   "outputs": [
    {
     "data": {
      "text/latex": [
       "$\\displaystyle \\sqrt[4]{x} + \\sqrt{y} - z + 5$"
      ],
      "text/plain": [
       "x**(1/4) + sqrt(y) - z + 5"
      ]
     },
     "execution_count": 27,
     "metadata": {},
     "output_type": "execute_result"
    }
   ],
   "source": [
    "#Creating another radical expression \n",
    "expr = sp.root(x,4) + sp.root(y,2) - sp.root(z,1) + 5 #Root of 1 is equivalent to the variable itself\n",
    "expr"
   ]
  },
  {
   "cell_type": "code",
   "execution_count": 28,
   "metadata": {},
   "outputs": [
    {
     "data": {
      "text/latex": [
       "$\\displaystyle 11$"
      ],
      "text/plain": [
       "11"
      ]
     },
     "execution_count": 28,
     "metadata": {},
     "output_type": "execute_result"
    }
   ],
   "source": [
    "#Evaluating the value of expression for x = 256, y = 81, z = 7 \n",
    "expr.subs({'x':256, 'y':81, 'z':7})"
   ]
  },
  {
   "cell_type": "code",
   "execution_count": null,
   "metadata": {},
   "outputs": [],
   "source": []
  }
 ],
 "metadata": {
  "kernelspec": {
   "display_name": "Python 3",
   "language": "python",
   "name": "python3"
  },
  "language_info": {
   "codemirror_mode": {
    "name": "ipython",
    "version": 3
   },
   "file_extension": ".py",
   "mimetype": "text/x-python",
   "name": "python",
   "nbconvert_exporter": "python",
   "pygments_lexer": "ipython3",
   "version": "3.8.2"
  }
 },
 "nbformat": 4,
 "nbformat_minor": 4
}
